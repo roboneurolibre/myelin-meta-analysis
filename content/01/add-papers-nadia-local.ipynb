{
 "cells": [
  {
   "cell_type": "markdown",
   "metadata": {
    "tags": []
   },
   "source": [
    "### Add papers from .json files"
   ]
  },
  {
   "cell_type": "code",
   "execution_count": null,
   "metadata": {},
   "outputs": [],
   "source": [
    "import os\n",
    "import pandas as pd\n",
    "import numpy as np\n",
    "import json\n",
    "import collections\n",
    "data_path = \"../../data/\"\n",
    "data = pd.read_excel(os.path.join(data_path,'database.xlsx'), sheet_name='Details')\n",
    "data_R2 = pd.read_excel(os.path.join(data_path,'database.xlsx'), sheet_name='R^2')"
   ]
  },
  {
   "cell_type": "markdown",
   "metadata": {},
   "source": [
    "Adding information to the meta-analysis"
   ]
  },
  {
   "cell_type": "code",
   "execution_count": 36,
   "metadata": {},
   "outputs": [
    {
     "data": {
      "text/plain": [
       "\"\\nif 'Vendor' not in data: data.insert(5, 'Vendor', np.NaN, allow_duplicates = False)\\nif 'Neutral sentiment confidence: title + abstract' not in data: data['Neutral sentiment confidence: title + abstract'] = np.NaN\\nif 'Positive sentiment confidence: title + abstract' not in data: data['Positive sentiment confidence: title + abstract'] = np.NaN\\nif 'Negative sentiment confidence: title + abstract' not in data: data['Negative sentiment confidence: title + abstract'] = np.NaN\\nif 'Mixed sentiment confidence: title + abstract' not in data: data['Mixed sentiment confidence: title + abstract'] = np.NaN\\nif 'Neutral sentiment confidence: title + abstract + text' not in data: data['Neutral sentiment confidence: title + abstract + text'] = np.NaN\\nif 'Positive sentiment confidence: title + abstract + text' not in data: data['Positive sentiment confidence: title + abstract + text'] = np.NaN\\nif 'Negative sentiment confidence: title + abstract + text' not in data: data['Negative sentiment confidence: title + abstract + text'] = np.NaN\\nif 'Mixed sentiment confidence: title + abstract + text' not in data: data['Mixed sentiment confidence: title + abstract + text'] = np.NaN\\n\""
      ]
     },
     "execution_count": 36,
     "metadata": {},
     "output_type": "execute_result"
    }
   ],
   "source": [
    "'''\n",
    "if 'Vendor' not in data: data.insert(5, 'Vendor', np.NaN, allow_duplicates = False)\n",
    "if 'Neutral sentiment confidence: title + abstract' not in data: data['Neutral sentiment confidence: title + abstract'] = np.NaN\n",
    "if 'Positive sentiment confidence: title + abstract' not in data: data['Positive sentiment confidence: title + abstract'] = np.NaN\n",
    "if 'Negative sentiment confidence: title + abstract' not in data: data['Negative sentiment confidence: title + abstract'] = np.NaN\n",
    "if 'Mixed sentiment confidence: title + abstract' not in data: data['Mixed sentiment confidence: title + abstract'] = np.NaN\n",
    "if 'Neutral sentiment confidence: title + abstract + text' not in data: data['Neutral sentiment confidence: title + abstract + text'] = np.NaN\n",
    "if 'Positive sentiment confidence: title + abstract + text' not in data: data['Positive sentiment confidence: title + abstract + text'] = np.NaN\n",
    "if 'Negative sentiment confidence: title + abstract + text' not in data: data['Negative sentiment confidence: title + abstract + text'] = np.NaN\n",
    "if 'Mixed sentiment confidence: title + abstract + text' not in data: data['Mixed sentiment confidence: title + abstract + text'] = np.NaN\n",
    "'''"
   ]
  },
  {
   "cell_type": "markdown",
   "metadata": {},
   "source": [
    "Adding new papers through .json files storing core information"
   ]
  },
  {
   "cell_type": "code",
   "execution_count": 34,
   "metadata": {},
   "outputs": [
    {
     "name": "stdout",
     "output_type": "stream",
     "text": [
      "Could not add to data; different col names\n",
      "Could not add to data; different col names\n",
      "Could not add to data; different col names\n",
      "Could not add to data; different col names\n"
     ]
    }
   ],
   "source": [
    "original_sheet_shape = [data.shape,data_R2.shape]\n",
    "change=0\n",
    "str_keys_to_int = ['Year','Subjects','ROI per subject']\n",
    "str_keys_to_float = ['Magnetic field']\n",
    "for file in os.listdir(\"../../binder/new-paper-json-files/\"):\n",
    "    if file.endswith(\".json\"): \n",
    "        with open(f'../../binder/new-paper-json-files/{file}', 'r') as f:\n",
    "            new_paper_json = json.load(f)\n",
    "            if data['DOI'].str.contains(new_paper_json['DOI']).any(): print(f\"The {new_paper_json['First author']} et al. {new_paper_json['Year']} paper has already been uploaded to the spreadsheet!\")\n",
    "            else:\n",
    "                change+=1\n",
    "                \n",
    "                # update R^2 sheet\n",
    "                new_paper_R2_dict = dict(zip(data_R2.columns,[np.NaN]*len(data_R2.columns)))\n",
    "                new_paper_R2_dict['DOI'] = new_paper_json['DOI']\n",
    "                for i in range(len(new_paper_json['R^2'])): new_paper_R2_dict[new_paper_json['R^2'][i]['MRI measure being compared to histology']] = float(new_paper_json['R^2'][i]['Value'])\n",
    "                data_R2 = pd.concat([data_R2,pd.DataFrame([new_paper_R2_dict])],ignore_index=True)\n",
    "                \n",
    "                # update Details sheet\n",
    "                new_paper_json.pop('R^2')\n",
    "                for key in str_keys_to_int: new_paper_json[key] = int(new_paper_json[key])\n",
    "                for key in str_keys_to_float: new_paper_json[key] = float(new_paper_json[key])\n",
    "                if (collections.Counter(list(data.columns)) == collections.Counter(list(new_paper_json.keys()))):\n",
    "                    data = pd.concat([data,pd.DataFrame([new_paper_json])],ignore_index=True)\n",
    "                else: \n",
    "                    print(\"Could not add to data; different col names\")"
   ]
  },
  {
   "cell_type": "markdown",
   "metadata": {},
   "source": [
    "Rewriting `database.xlsx` if new paper .json files"
   ]
  },
  {
   "cell_type": "code",
   "execution_count": 35,
   "metadata": {},
   "outputs": [
    {
     "name": "stdout",
     "output_type": "stream",
     "text": [
      "4 papers have been added.\n",
      "Your details spreadsheet went from shape (58, 28) to (58, 28).\n",
      "Your R^2 spreadsheet went from shape (58, 36) to (62, 36).\n"
     ]
    }
   ],
   "source": [
    "if (change != 0):\n",
    "    Excelwriter = pd.ExcelWriter(os.path.join(data_path,'database.xlsx'),engine=\"xlsxwriter\")\n",
    "    data.to_excel(Excelwriter, sheet_name='Details',index=False)\n",
    "    data_R2.to_excel(Excelwriter, sheet_name='R^2',index=False)\n",
    "    Excelwriter.save()\n",
    "    print(f\"{change} papers have been added.\\nYour details spreadsheet went from shape {original_sheet_shape[0]} to {data.shape}.\\nYour R^2 spreadsheet went from shape {original_sheet_shape[1]} to {data_R2.shape}.\")\n",
    "else:\n",
    "    print(\"No new papers to add!\")"
   ]
  },
  {
   "cell_type": "code",
   "execution_count": null,
   "metadata": {},
   "outputs": [],
   "source": []
  }
 ],
 "metadata": {
  "celltoolbar": "Edit Metadata",
  "kernelspec": {
   "display_name": "Python 3 (ipykernel)",
   "language": "python",
   "name": "python3"
  },
  "language_info": {
   "codemirror_mode": {
    "name": "ipython",
    "version": 3
   },
   "file_extension": ".py",
   "mimetype": "text/x-python",
   "name": "python",
   "nbconvert_exporter": "python",
   "pygments_lexer": "ipython3",
   "version": "3.8.8"
  }
 },
 "nbformat": 4,
 "nbformat_minor": 4
}
